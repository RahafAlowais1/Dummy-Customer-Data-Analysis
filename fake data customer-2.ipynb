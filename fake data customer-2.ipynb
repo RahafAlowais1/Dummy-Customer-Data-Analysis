{
 "cells": [
  {
   "cell_type": "markdown",
   "id": "26b04c96-c358-4b15-bb9e-683bc0aec2c7",
   "metadata": {},
   "source": [
    "# Analysis of Dummy Customer Data with Errors Using Python "
   ]
  },
  {
   "cell_type": "markdown",
   "id": "a3836879-480b-4279-8c3e-ed94e2a10e95",
   "metadata": {
    "jp-MarkdownHeadingCollapsed": true
   },
   "source": [
    "## Import Libraries"
   ]
  },
  {
   "cell_type": "code",
   "execution_count": 36,
   "id": "6a36cc1a-bdc0-46d7-bb27-91ed1a14a75e",
   "metadata": {},
   "outputs": [],
   "source": [
    "import pandas as pd \n",
    "import numpy as np \n",
    "import matplotlib.pyplot as plt \n",
    "import seaborn as sns "
   ]
  },
  {
   "cell_type": "markdown",
   "id": "b4cb89fc-3bfd-42e5-b4fc-669cd817e062",
   "metadata": {
    "jp-MarkdownHeadingCollapsed": true
   },
   "source": [
    "## Read Sfake_customer_data_with_errors.csv as a dataframe "
   ]
  },
  {
   "cell_type": "code",
   "execution_count": 2,
   "id": "e68ecf02-c5e4-4e6d-9dcf-5dbd4badfaf0",
   "metadata": {},
   "outputs": [
    {
     "data": {
      "text/html": [
       "<div>\n",
       "<style scoped>\n",
       "    .dataframe tbody tr th:only-of-type {\n",
       "        vertical-align: middle;\n",
       "    }\n",
       "\n",
       "    .dataframe tbody tr th {\n",
       "        vertical-align: top;\n",
       "    }\n",
       "\n",
       "    .dataframe thead th {\n",
       "        text-align: right;\n",
       "    }\n",
       "</style>\n",
       "<table border=\"1\" class=\"dataframe\">\n",
       "  <thead>\n",
       "    <tr style=\"text-align: right;\">\n",
       "      <th></th>\n",
       "      <th>CustomerID</th>\n",
       "      <th>Name</th>\n",
       "      <th>Age</th>\n",
       "      <th>Gender</th>\n",
       "      <th>Email</th>\n",
       "      <th>Phone</th>\n",
       "      <th>PurchaseAmount</th>\n",
       "      <th>PurchaseDate</th>\n",
       "      <th>ProductCategory</th>\n",
       "      <th>Rating</th>\n",
       "      <th>Unnamed</th>\n",
       "      <th>Gender</th>\n",
       "    </tr>\n",
       "  </thead>\n",
       "  <tbody>\n",
       "    <tr>\n",
       "      <th>0</th>\n",
       "      <td>CUST1000</td>\n",
       "      <td>Ali Hassan</td>\n",
       "      <td>72.0</td>\n",
       "      <td>NaN</td>\n",
       "      <td>ali.hassan@gmail.com</td>\n",
       "      <td>123456789.0</td>\n",
       "      <td>837.31</td>\n",
       "      <td>2023-10-12</td>\n",
       "      <td>Books</td>\n",
       "      <td>3.0</td>\n",
       "      <td>NaN</td>\n",
       "      <td>NaN</td>\n",
       "    </tr>\n",
       "    <tr>\n",
       "      <th>1</th>\n",
       "      <td>CUST1001</td>\n",
       "      <td>Fatma Ali</td>\n",
       "      <td>NaN</td>\n",
       "      <td>Female</td>\n",
       "      <td>fatma.ali@hotmail.com</td>\n",
       "      <td>NaN</td>\n",
       "      <td>900.25</td>\n",
       "      <td>2023-02-23</td>\n",
       "      <td>NaN</td>\n",
       "      <td>3.0</td>\n",
       "      <td>NaN</td>\n",
       "      <td>Female</td>\n",
       "    </tr>\n",
       "    <tr>\n",
       "      <th>2</th>\n",
       "      <td>CUST1002</td>\n",
       "      <td>Ahmed Mahmoud</td>\n",
       "      <td>-1.0</td>\n",
       "      <td>male</td>\n",
       "      <td>ahmed.mahmoud@hotmail.com</td>\n",
       "      <td>NaN</td>\n",
       "      <td>761.72</td>\n",
       "      <td>2023-07-07</td>\n",
       "      <td>Toys</td>\n",
       "      <td>2.0</td>\n",
       "      <td>NaN</td>\n",
       "      <td>male</td>\n",
       "    </tr>\n",
       "    <tr>\n",
       "      <th>3</th>\n",
       "      <td>CUST1003</td>\n",
       "      <td>Ahmed Gaber</td>\n",
       "      <td>-1.0</td>\n",
       "      <td>F</td>\n",
       "      <td>ahmed.gaber@gmail.com</td>\n",
       "      <td>NaN</td>\n",
       "      <td>303.72</td>\n",
       "      <td>2023-12-30</td>\n",
       "      <td>NaN</td>\n",
       "      <td>2.0</td>\n",
       "      <td>NaN</td>\n",
       "      <td>F</td>\n",
       "    </tr>\n",
       "    <tr>\n",
       "      <th>4</th>\n",
       "      <td>CUST1004</td>\n",
       "      <td>Ali Ibrahim</td>\n",
       "      <td>73.0</td>\n",
       "      <td>M</td>\n",
       "      <td>ali.ibrahim@yahoo.com</td>\n",
       "      <td>987654321.0</td>\n",
       "      <td>635.81</td>\n",
       "      <td>2023-12-07</td>\n",
       "      <td>Clothing</td>\n",
       "      <td>2.0</td>\n",
       "      <td>NaN</td>\n",
       "      <td>M</td>\n",
       "    </tr>\n",
       "    <tr>\n",
       "      <th>...</th>\n",
       "      <td>...</td>\n",
       "      <td>...</td>\n",
       "      <td>...</td>\n",
       "      <td>...</td>\n",
       "      <td>...</td>\n",
       "      <td>...</td>\n",
       "      <td>...</td>\n",
       "      <td>...</td>\n",
       "      <td>...</td>\n",
       "      <td>...</td>\n",
       "      <td>...</td>\n",
       "      <td>...</td>\n",
       "    </tr>\n",
       "    <tr>\n",
       "      <th>2145</th>\n",
       "      <td>CUST1447</td>\n",
       "      <td>Mark Mahmoud</td>\n",
       "      <td>66.0</td>\n",
       "      <td>male</td>\n",
       "      <td>mark.mahmoud@hotmail.com</td>\n",
       "      <td>987654321.0</td>\n",
       "      <td>462.47</td>\n",
       "      <td>2023-08-04</td>\n",
       "      <td>Toys</td>\n",
       "      <td>5.0</td>\n",
       "      <td>NaN</td>\n",
       "      <td>male</td>\n",
       "    </tr>\n",
       "    <tr>\n",
       "      <th>2146</th>\n",
       "      <td>CUST1381</td>\n",
       "      <td>Fatma Hassan</td>\n",
       "      <td>NaN</td>\n",
       "      <td>M</td>\n",
       "      <td>fatma.hassan@yahoo.com</td>\n",
       "      <td>NaN</td>\n",
       "      <td>237.62</td>\n",
       "      <td>2024-01-28</td>\n",
       "      <td>Toys</td>\n",
       "      <td>5.0</td>\n",
       "      <td>NaN</td>\n",
       "      <td>M</td>\n",
       "    </tr>\n",
       "    <tr>\n",
       "      <th>2147</th>\n",
       "      <td>CUST2338</td>\n",
       "      <td>Ali Gaber</td>\n",
       "      <td>-1.0</td>\n",
       "      <td>M</td>\n",
       "      <td>ali.gaber@gmail.com</td>\n",
       "      <td>NaN</td>\n",
       "      <td>174.72</td>\n",
       "      <td>2024-09-29</td>\n",
       "      <td>Books</td>\n",
       "      <td>NaN</td>\n",
       "      <td>NaN</td>\n",
       "      <td>M</td>\n",
       "    </tr>\n",
       "    <tr>\n",
       "      <th>2148</th>\n",
       "      <td>CUST1694</td>\n",
       "      <td>John Ali</td>\n",
       "      <td>200.0</td>\n",
       "      <td>Female</td>\n",
       "      <td>john.ali@yahoo.com</td>\n",
       "      <td>987654321.0</td>\n",
       "      <td>250.47</td>\n",
       "      <td>2024-02-05</td>\n",
       "      <td>NaN</td>\n",
       "      <td>5.0</td>\n",
       "      <td>NaN</td>\n",
       "      <td>Female</td>\n",
       "    </tr>\n",
       "    <tr>\n",
       "      <th>2149</th>\n",
       "      <td>CUST1567</td>\n",
       "      <td>Ahmed Hassan</td>\n",
       "      <td>NaN</td>\n",
       "      <td>male</td>\n",
       "      <td>ahmed.hassan@yahoo.com</td>\n",
       "      <td>123456789.0</td>\n",
       "      <td>891.41</td>\n",
       "      <td>2023-10-13</td>\n",
       "      <td>Clothing</td>\n",
       "      <td>3.0</td>\n",
       "      <td>NaN</td>\n",
       "      <td>male</td>\n",
       "    </tr>\n",
       "  </tbody>\n",
       "</table>\n",
       "<p>2150 rows × 12 columns</p>\n",
       "</div>"
      ],
      "text/plain": [
       "     CustomerID           Name    Age  Gender                      Email  \\\n",
       "0      CUST1000     Ali Hassan   72.0     NaN       ali.hassan@gmail.com   \n",
       "1      CUST1001      Fatma Ali    NaN  Female      fatma.ali@hotmail.com   \n",
       "2      CUST1002  Ahmed Mahmoud   -1.0    male  ahmed.mahmoud@hotmail.com   \n",
       "3      CUST1003    Ahmed Gaber   -1.0       F      ahmed.gaber@gmail.com   \n",
       "4      CUST1004    Ali Ibrahim   73.0       M      ali.ibrahim@yahoo.com   \n",
       "...         ...            ...    ...     ...                        ...   \n",
       "2145   CUST1447   Mark Mahmoud   66.0    male   mark.mahmoud@hotmail.com   \n",
       "2146   CUST1381   Fatma Hassan    NaN       M     fatma.hassan@yahoo.com   \n",
       "2147   CUST2338      Ali Gaber   -1.0       M        ali.gaber@gmail.com   \n",
       "2148   CUST1694       John Ali  200.0  Female         john.ali@yahoo.com   \n",
       "2149   CUST1567   Ahmed Hassan    NaN    male     ahmed.hassan@yahoo.com   \n",
       "\n",
       "            Phone  PurchaseAmount PurchaseDate ProductCategory  Rating  \\\n",
       "0     123456789.0          837.31   2023-10-12           Books     3.0   \n",
       "1             NaN          900.25   2023-02-23             NaN     3.0   \n",
       "2             NaN          761.72   2023-07-07            Toys     2.0   \n",
       "3             NaN          303.72   2023-12-30             NaN     2.0   \n",
       "4     987654321.0          635.81   2023-12-07        Clothing     2.0   \n",
       "...           ...             ...          ...             ...     ...   \n",
       "2145  987654321.0          462.47   2023-08-04            Toys     5.0   \n",
       "2146          NaN          237.62   2024-01-28            Toys     5.0   \n",
       "2147          NaN          174.72   2024-09-29           Books     NaN   \n",
       "2148  987654321.0          250.47   2024-02-05             NaN     5.0   \n",
       "2149  123456789.0          891.41   2023-10-13        Clothing     3.0   \n",
       "\n",
       "      Unnamed   Gender    \n",
       "0         NaN        NaN  \n",
       "1         NaN     Female  \n",
       "2         NaN       male  \n",
       "3         NaN          F  \n",
       "4         NaN          M  \n",
       "...       ...        ...  \n",
       "2145      NaN       male  \n",
       "2146      NaN          M  \n",
       "2147      NaN          M  \n",
       "2148      NaN     Female  \n",
       "2149      NaN       male  \n",
       "\n",
       "[2150 rows x 12 columns]"
      ]
     },
     "execution_count": 2,
     "metadata": {},
     "output_type": "execute_result"
    }
   ],
   "source": [
    "df = pd.read_csv('fake_customer_data_with_errors.csv')\n",
    "df "
   ]
  },
  {
   "cell_type": "markdown",
   "id": "8845f503-1ffc-4645-b1dd-973990f1fb50",
   "metadata": {},
   "source": [
    "# 1- Explore Data "
   ]
  },
  {
   "cell_type": "code",
   "execution_count": 3,
   "id": "4b5cfaa5-4134-4daf-b06b-1887c5183d74",
   "metadata": {},
   "outputs": [
    {
     "data": {
      "text/html": [
       "<div>\n",
       "<style scoped>\n",
       "    .dataframe tbody tr th:only-of-type {\n",
       "        vertical-align: middle;\n",
       "    }\n",
       "\n",
       "    .dataframe tbody tr th {\n",
       "        vertical-align: top;\n",
       "    }\n",
       "\n",
       "    .dataframe thead th {\n",
       "        text-align: right;\n",
       "    }\n",
       "</style>\n",
       "<table border=\"1\" class=\"dataframe\">\n",
       "  <thead>\n",
       "    <tr style=\"text-align: right;\">\n",
       "      <th></th>\n",
       "      <th>CustomerID</th>\n",
       "      <th>Name</th>\n",
       "      <th>Age</th>\n",
       "      <th>Gender</th>\n",
       "      <th>Email</th>\n",
       "      <th>Phone</th>\n",
       "      <th>PurchaseAmount</th>\n",
       "      <th>PurchaseDate</th>\n",
       "      <th>ProductCategory</th>\n",
       "      <th>Rating</th>\n",
       "      <th>Unnamed</th>\n",
       "      <th>Gender</th>\n",
       "    </tr>\n",
       "  </thead>\n",
       "  <tbody>\n",
       "    <tr>\n",
       "      <th>0</th>\n",
       "      <td>CUST1000</td>\n",
       "      <td>Ali Hassan</td>\n",
       "      <td>72.0</td>\n",
       "      <td>NaN</td>\n",
       "      <td>ali.hassan@gmail.com</td>\n",
       "      <td>123456789.0</td>\n",
       "      <td>837.31</td>\n",
       "      <td>2023-10-12</td>\n",
       "      <td>Books</td>\n",
       "      <td>3.0</td>\n",
       "      <td>NaN</td>\n",
       "      <td>NaN</td>\n",
       "    </tr>\n",
       "    <tr>\n",
       "      <th>1</th>\n",
       "      <td>CUST1001</td>\n",
       "      <td>Fatma Ali</td>\n",
       "      <td>NaN</td>\n",
       "      <td>Female</td>\n",
       "      <td>fatma.ali@hotmail.com</td>\n",
       "      <td>NaN</td>\n",
       "      <td>900.25</td>\n",
       "      <td>2023-02-23</td>\n",
       "      <td>NaN</td>\n",
       "      <td>3.0</td>\n",
       "      <td>NaN</td>\n",
       "      <td>Female</td>\n",
       "    </tr>\n",
       "    <tr>\n",
       "      <th>2</th>\n",
       "      <td>CUST1002</td>\n",
       "      <td>Ahmed Mahmoud</td>\n",
       "      <td>-1.0</td>\n",
       "      <td>male</td>\n",
       "      <td>ahmed.mahmoud@hotmail.com</td>\n",
       "      <td>NaN</td>\n",
       "      <td>761.72</td>\n",
       "      <td>2023-07-07</td>\n",
       "      <td>Toys</td>\n",
       "      <td>2.0</td>\n",
       "      <td>NaN</td>\n",
       "      <td>male</td>\n",
       "    </tr>\n",
       "    <tr>\n",
       "      <th>3</th>\n",
       "      <td>CUST1003</td>\n",
       "      <td>Ahmed Gaber</td>\n",
       "      <td>-1.0</td>\n",
       "      <td>F</td>\n",
       "      <td>ahmed.gaber@gmail.com</td>\n",
       "      <td>NaN</td>\n",
       "      <td>303.72</td>\n",
       "      <td>2023-12-30</td>\n",
       "      <td>NaN</td>\n",
       "      <td>2.0</td>\n",
       "      <td>NaN</td>\n",
       "      <td>F</td>\n",
       "    </tr>\n",
       "    <tr>\n",
       "      <th>4</th>\n",
       "      <td>CUST1004</td>\n",
       "      <td>Ali Ibrahim</td>\n",
       "      <td>73.0</td>\n",
       "      <td>M</td>\n",
       "      <td>ali.ibrahim@yahoo.com</td>\n",
       "      <td>987654321.0</td>\n",
       "      <td>635.81</td>\n",
       "      <td>2023-12-07</td>\n",
       "      <td>Clothing</td>\n",
       "      <td>2.0</td>\n",
       "      <td>NaN</td>\n",
       "      <td>M</td>\n",
       "    </tr>\n",
       "  </tbody>\n",
       "</table>\n",
       "</div>"
      ],
      "text/plain": [
       "  CustomerID           Name   Age  Gender                      Email  \\\n",
       "0   CUST1000     Ali Hassan  72.0     NaN       ali.hassan@gmail.com   \n",
       "1   CUST1001      Fatma Ali   NaN  Female      fatma.ali@hotmail.com   \n",
       "2   CUST1002  Ahmed Mahmoud  -1.0    male  ahmed.mahmoud@hotmail.com   \n",
       "3   CUST1003    Ahmed Gaber  -1.0       F      ahmed.gaber@gmail.com   \n",
       "4   CUST1004    Ali Ibrahim  73.0       M      ali.ibrahim@yahoo.com   \n",
       "\n",
       "         Phone  PurchaseAmount PurchaseDate ProductCategory  Rating  Unnamed  \\\n",
       "0  123456789.0          837.31   2023-10-12           Books     3.0      NaN   \n",
       "1          NaN          900.25   2023-02-23             NaN     3.0      NaN   \n",
       "2          NaN          761.72   2023-07-07            Toys     2.0      NaN   \n",
       "3          NaN          303.72   2023-12-30             NaN     2.0      NaN   \n",
       "4  987654321.0          635.81   2023-12-07        Clothing     2.0      NaN   \n",
       "\n",
       "    Gender    \n",
       "0        NaN  \n",
       "1     Female  \n",
       "2       male  \n",
       "3          F  \n",
       "4          M  "
      ]
     },
     "execution_count": 3,
     "metadata": {},
     "output_type": "execute_result"
    }
   ],
   "source": [
    "df.head()"
   ]
  },
  {
   "cell_type": "code",
   "execution_count": 4,
   "id": "34391e3d-6317-4d52-a02d-e6067d166e81",
   "metadata": {},
   "outputs": [
    {
     "data": {
      "text/html": [
       "<div>\n",
       "<style scoped>\n",
       "    .dataframe tbody tr th:only-of-type {\n",
       "        vertical-align: middle;\n",
       "    }\n",
       "\n",
       "    .dataframe tbody tr th {\n",
       "        vertical-align: top;\n",
       "    }\n",
       "\n",
       "    .dataframe thead th {\n",
       "        text-align: right;\n",
       "    }\n",
       "</style>\n",
       "<table border=\"1\" class=\"dataframe\">\n",
       "  <thead>\n",
       "    <tr style=\"text-align: right;\">\n",
       "      <th></th>\n",
       "      <th>CustomerID</th>\n",
       "      <th>Name</th>\n",
       "      <th>Age</th>\n",
       "      <th>Gender</th>\n",
       "      <th>Email</th>\n",
       "      <th>Phone</th>\n",
       "      <th>PurchaseAmount</th>\n",
       "      <th>PurchaseDate</th>\n",
       "      <th>ProductCategory</th>\n",
       "      <th>Rating</th>\n",
       "      <th>Unnamed</th>\n",
       "      <th>Gender</th>\n",
       "    </tr>\n",
       "  </thead>\n",
       "  <tbody>\n",
       "    <tr>\n",
       "      <th>2145</th>\n",
       "      <td>CUST1447</td>\n",
       "      <td>Mark Mahmoud</td>\n",
       "      <td>66.0</td>\n",
       "      <td>male</td>\n",
       "      <td>mark.mahmoud@hotmail.com</td>\n",
       "      <td>987654321.0</td>\n",
       "      <td>462.47</td>\n",
       "      <td>2023-08-04</td>\n",
       "      <td>Toys</td>\n",
       "      <td>5.0</td>\n",
       "      <td>NaN</td>\n",
       "      <td>male</td>\n",
       "    </tr>\n",
       "    <tr>\n",
       "      <th>2146</th>\n",
       "      <td>CUST1381</td>\n",
       "      <td>Fatma Hassan</td>\n",
       "      <td>NaN</td>\n",
       "      <td>M</td>\n",
       "      <td>fatma.hassan@yahoo.com</td>\n",
       "      <td>NaN</td>\n",
       "      <td>237.62</td>\n",
       "      <td>2024-01-28</td>\n",
       "      <td>Toys</td>\n",
       "      <td>5.0</td>\n",
       "      <td>NaN</td>\n",
       "      <td>M</td>\n",
       "    </tr>\n",
       "    <tr>\n",
       "      <th>2147</th>\n",
       "      <td>CUST2338</td>\n",
       "      <td>Ali Gaber</td>\n",
       "      <td>-1.0</td>\n",
       "      <td>M</td>\n",
       "      <td>ali.gaber@gmail.com</td>\n",
       "      <td>NaN</td>\n",
       "      <td>174.72</td>\n",
       "      <td>2024-09-29</td>\n",
       "      <td>Books</td>\n",
       "      <td>NaN</td>\n",
       "      <td>NaN</td>\n",
       "      <td>M</td>\n",
       "    </tr>\n",
       "    <tr>\n",
       "      <th>2148</th>\n",
       "      <td>CUST1694</td>\n",
       "      <td>John Ali</td>\n",
       "      <td>200.0</td>\n",
       "      <td>Female</td>\n",
       "      <td>john.ali@yahoo.com</td>\n",
       "      <td>987654321.0</td>\n",
       "      <td>250.47</td>\n",
       "      <td>2024-02-05</td>\n",
       "      <td>NaN</td>\n",
       "      <td>5.0</td>\n",
       "      <td>NaN</td>\n",
       "      <td>Female</td>\n",
       "    </tr>\n",
       "    <tr>\n",
       "      <th>2149</th>\n",
       "      <td>CUST1567</td>\n",
       "      <td>Ahmed Hassan</td>\n",
       "      <td>NaN</td>\n",
       "      <td>male</td>\n",
       "      <td>ahmed.hassan@yahoo.com</td>\n",
       "      <td>123456789.0</td>\n",
       "      <td>891.41</td>\n",
       "      <td>2023-10-13</td>\n",
       "      <td>Clothing</td>\n",
       "      <td>3.0</td>\n",
       "      <td>NaN</td>\n",
       "      <td>male</td>\n",
       "    </tr>\n",
       "  </tbody>\n",
       "</table>\n",
       "</div>"
      ],
      "text/plain": [
       "     CustomerID          Name    Age  Gender                     Email  \\\n",
       "2145   CUST1447  Mark Mahmoud   66.0    male  mark.mahmoud@hotmail.com   \n",
       "2146   CUST1381  Fatma Hassan    NaN       M    fatma.hassan@yahoo.com   \n",
       "2147   CUST2338     Ali Gaber   -1.0       M       ali.gaber@gmail.com   \n",
       "2148   CUST1694      John Ali  200.0  Female        john.ali@yahoo.com   \n",
       "2149   CUST1567  Ahmed Hassan    NaN    male    ahmed.hassan@yahoo.com   \n",
       "\n",
       "            Phone  PurchaseAmount PurchaseDate ProductCategory  Rating  \\\n",
       "2145  987654321.0          462.47   2023-08-04            Toys     5.0   \n",
       "2146          NaN          237.62   2024-01-28            Toys     5.0   \n",
       "2147          NaN          174.72   2024-09-29           Books     NaN   \n",
       "2148  987654321.0          250.47   2024-02-05             NaN     5.0   \n",
       "2149  123456789.0          891.41   2023-10-13        Clothing     3.0   \n",
       "\n",
       "      Unnamed   Gender    \n",
       "2145      NaN       male  \n",
       "2146      NaN          M  \n",
       "2147      NaN          M  \n",
       "2148      NaN     Female  \n",
       "2149      NaN       male  "
      ]
     },
     "execution_count": 4,
     "metadata": {},
     "output_type": "execute_result"
    }
   ],
   "source": [
    "df.tail() "
   ]
  },
  {
   "cell_type": "code",
   "execution_count": 5,
   "id": "c208af18-79d2-4fc2-a03d-d0c0580a47f6",
   "metadata": {},
   "outputs": [
    {
     "data": {
      "text/html": [
       "<div>\n",
       "<style scoped>\n",
       "    .dataframe tbody tr th:only-of-type {\n",
       "        vertical-align: middle;\n",
       "    }\n",
       "\n",
       "    .dataframe tbody tr th {\n",
       "        vertical-align: top;\n",
       "    }\n",
       "\n",
       "    .dataframe thead th {\n",
       "        text-align: right;\n",
       "    }\n",
       "</style>\n",
       "<table border=\"1\" class=\"dataframe\">\n",
       "  <thead>\n",
       "    <tr style=\"text-align: right;\">\n",
       "      <th></th>\n",
       "      <th>CustomerID</th>\n",
       "      <th>Name</th>\n",
       "      <th>Age</th>\n",
       "      <th>Gender</th>\n",
       "      <th>Email</th>\n",
       "      <th>Phone</th>\n",
       "      <th>PurchaseAmount</th>\n",
       "      <th>PurchaseDate</th>\n",
       "      <th>ProductCategory</th>\n",
       "      <th>Rating</th>\n",
       "      <th>Unnamed</th>\n",
       "      <th>Gender</th>\n",
       "    </tr>\n",
       "  </thead>\n",
       "  <tbody>\n",
       "    <tr>\n",
       "      <th>1979</th>\n",
       "      <td>CUST2979</td>\n",
       "      <td>Fatma Smith</td>\n",
       "      <td>200.0</td>\n",
       "      <td>M</td>\n",
       "      <td>fatma.smith@gmail.com</td>\n",
       "      <td>987654321.0</td>\n",
       "      <td>565.84</td>\n",
       "      <td>2024-05-18</td>\n",
       "      <td>Books</td>\n",
       "      <td>3.0</td>\n",
       "      <td>NaN</td>\n",
       "      <td>M</td>\n",
       "    </tr>\n",
       "    <tr>\n",
       "      <th>1505</th>\n",
       "      <td>CUST2505</td>\n",
       "      <td>Ahmed Mahmoud</td>\n",
       "      <td>-1.0</td>\n",
       "      <td>Male</td>\n",
       "      <td>ahmed.mahmoud@gmail.com</td>\n",
       "      <td>123456789.0</td>\n",
       "      <td>491.69</td>\n",
       "      <td>2023-12-22</td>\n",
       "      <td>NaN</td>\n",
       "      <td>3.0</td>\n",
       "      <td>NaN</td>\n",
       "      <td>Male</td>\n",
       "    </tr>\n",
       "    <tr>\n",
       "      <th>439</th>\n",
       "      <td>CUST1439</td>\n",
       "      <td>Alaa Smith</td>\n",
       "      <td>82.0</td>\n",
       "      <td>female</td>\n",
       "      <td>alaa.smith@hotmail.com</td>\n",
       "      <td>NaN</td>\n",
       "      <td>824.07</td>\n",
       "      <td>2024-06-19</td>\n",
       "      <td>Electronics</td>\n",
       "      <td>10.0</td>\n",
       "      <td>NaN</td>\n",
       "      <td>female</td>\n",
       "    </tr>\n",
       "  </tbody>\n",
       "</table>\n",
       "</div>"
      ],
      "text/plain": [
       "     CustomerID           Name    Age  Gender                    Email  \\\n",
       "1979   CUST2979    Fatma Smith  200.0       M    fatma.smith@gmail.com   \n",
       "1505   CUST2505  Ahmed Mahmoud   -1.0    Male  ahmed.mahmoud@gmail.com   \n",
       "439    CUST1439     Alaa Smith   82.0  female   alaa.smith@hotmail.com   \n",
       "\n",
       "            Phone  PurchaseAmount PurchaseDate ProductCategory  Rating  \\\n",
       "1979  987654321.0          565.84   2024-05-18           Books     3.0   \n",
       "1505  123456789.0          491.69   2023-12-22             NaN     3.0   \n",
       "439           NaN          824.07   2024-06-19     Electronics    10.0   \n",
       "\n",
       "      Unnamed   Gender    \n",
       "1979      NaN          M  \n",
       "1505      NaN       Male  \n",
       "439       NaN     female  "
      ]
     },
     "execution_count": 5,
     "metadata": {},
     "output_type": "execute_result"
    }
   ],
   "source": [
    "df.sample(3)"
   ]
  },
  {
   "cell_type": "code",
   "execution_count": 6,
   "id": "17ecfca7-e9cd-4a94-bf7a-c18e836a3ce9",
   "metadata": {},
   "outputs": [
    {
     "data": {
      "text/plain": [
       "(2150, 12)"
      ]
     },
     "execution_count": 6,
     "metadata": {},
     "output_type": "execute_result"
    }
   ],
   "source": [
    "df.shape "
   ]
  },
  {
   "cell_type": "code",
   "execution_count": 7,
   "id": "5e631e18-c9c8-4464-b3ff-d67eea366346",
   "metadata": {},
   "outputs": [
    {
     "data": {
      "text/plain": [
       "Index(['CustomerID', 'Name', 'Age', 'Gender', 'Email', 'Phone',\n",
       "       'PurchaseAmount', 'PurchaseDate', 'ProductCategory', 'Rating',\n",
       "       'Unnamed', '  Gender  '],\n",
       "      dtype='object')"
      ]
     },
     "execution_count": 7,
     "metadata": {},
     "output_type": "execute_result"
    }
   ],
   "source": [
    "df.columns   "
   ]
  },
  {
   "cell_type": "code",
   "execution_count": 8,
   "id": "a0934be3-da3c-4ae1-b52a-60de4b1d9a49",
   "metadata": {},
   "outputs": [
    {
     "name": "stdout",
     "output_type": "stream",
     "text": [
      "<class 'pandas.core.frame.DataFrame'>\n",
      "RangeIndex: 2150 entries, 0 to 2149\n",
      "Data columns (total 12 columns):\n",
      " #   Column           Non-Null Count  Dtype  \n",
      "---  ------           --------------  -----  \n",
      " 0   CustomerID       2150 non-null   object \n",
      " 1   Name             2150 non-null   object \n",
      " 2   Age              1630 non-null   float64\n",
      " 3   Gender           1877 non-null   object \n",
      " 4   Email            2150 non-null   object \n",
      " 5   Phone            1072 non-null   float64\n",
      " 6   PurchaseAmount   2049 non-null   float64\n",
      " 7   PurchaseDate     2150 non-null   object \n",
      " 8   ProductCategory  1573 non-null   object \n",
      " 9   Rating           1821 non-null   float64\n",
      " 10  Unnamed          0 non-null      float64\n",
      " 11    Gender         1877 non-null   object \n",
      "dtypes: float64(5), object(7)\n",
      "memory usage: 201.7+ KB\n"
     ]
    }
   ],
   "source": [
    "df.info()  "
   ]
  },
  {
   "cell_type": "code",
   "execution_count": 9,
   "id": "a1ab47d0-b15d-4e62-af12-9c35c8a72405",
   "metadata": {},
   "outputs": [
    {
     "data": {
      "text/plain": [
       "np.int64(50)"
      ]
     },
     "execution_count": 9,
     "metadata": {},
     "output_type": "execute_result"
    }
   ],
   "source": [
    "df.duplicated().sum() "
   ]
  },
  {
   "cell_type": "code",
   "execution_count": 10,
   "id": "a7636e47-b4ca-4546-ad17-f7bb772d8495",
   "metadata": {},
   "outputs": [
    {
     "data": {
      "text/plain": [
       "CustomerID         2100\n",
       "Name                 48\n",
       "Age                  78\n",
       "Gender                6\n",
       "Email               144\n",
       "Phone                 2\n",
       "PurchaseAmount     1991\n",
       "PurchaseDate        860\n",
       "ProductCategory       5\n",
       "Rating                6\n",
       "Unnamed               0\n",
       "  Gender              6\n",
       "dtype: int64"
      ]
     },
     "execution_count": 10,
     "metadata": {},
     "output_type": "execute_result"
    }
   ],
   "source": [
    "df.nunique() "
   ]
  },
  {
   "cell_type": "code",
   "execution_count": 11,
   "id": "d87dcd40-9c72-4b83-8ac3-b1b962b3384a",
   "metadata": {},
   "outputs": [
    {
     "data": {
      "text/plain": [
       "CustomerID            0\n",
       "Name                  0\n",
       "Age                 520\n",
       "Gender              273\n",
       "Email                 0\n",
       "Phone              1078\n",
       "PurchaseAmount      101\n",
       "PurchaseDate          0\n",
       "ProductCategory     577\n",
       "Rating              329\n",
       "Unnamed            2150\n",
       "  Gender            273\n",
       "dtype: int64"
      ]
     },
     "execution_count": 11,
     "metadata": {},
     "output_type": "execute_result"
    }
   ],
   "source": [
    "df.isnull().sum()   "
   ]
  },
  {
   "cell_type": "code",
   "execution_count": 12,
   "id": "6fbfbdb6-080d-4520-b55e-6e878255a9a4",
   "metadata": {},
   "outputs": [
    {
     "data": {
      "text/html": [
       "<div>\n",
       "<style scoped>\n",
       "    .dataframe tbody tr th:only-of-type {\n",
       "        vertical-align: middle;\n",
       "    }\n",
       "\n",
       "    .dataframe tbody tr th {\n",
       "        vertical-align: top;\n",
       "    }\n",
       "\n",
       "    .dataframe thead th {\n",
       "        text-align: right;\n",
       "    }\n",
       "</style>\n",
       "<table border=\"1\" class=\"dataframe\">\n",
       "  <thead>\n",
       "    <tr style=\"text-align: right;\">\n",
       "      <th></th>\n",
       "      <th>Age</th>\n",
       "      <th>Phone</th>\n",
       "      <th>PurchaseAmount</th>\n",
       "      <th>Rating</th>\n",
       "      <th>Unnamed</th>\n",
       "    </tr>\n",
       "  </thead>\n",
       "  <tbody>\n",
       "    <tr>\n",
       "      <th>count</th>\n",
       "      <td>1630.000000</td>\n",
       "      <td>1.072000e+03</td>\n",
       "      <td>2049.000000</td>\n",
       "      <td>1821.000000</td>\n",
       "      <td>0.0</td>\n",
       "    </tr>\n",
       "    <tr>\n",
       "      <th>mean</th>\n",
       "      <td>85.180982</td>\n",
       "      <td>5.668417e+08</td>\n",
       "      <td>509.418882</td>\n",
       "      <td>4.183416</td>\n",
       "      <td>NaN</td>\n",
       "    </tr>\n",
       "    <tr>\n",
       "      <th>std</th>\n",
       "      <td>86.794111</td>\n",
       "      <td>4.321530e+08</td>\n",
       "      <td>288.257697</td>\n",
       "      <td>2.871300</td>\n",
       "      <td>NaN</td>\n",
       "    </tr>\n",
       "    <tr>\n",
       "      <th>min</th>\n",
       "      <td>-1.000000</td>\n",
       "      <td>1.234568e+08</td>\n",
       "      <td>5.060000</td>\n",
       "      <td>1.000000</td>\n",
       "      <td>NaN</td>\n",
       "    </tr>\n",
       "    <tr>\n",
       "      <th>25%</th>\n",
       "      <td>-1.000000</td>\n",
       "      <td>1.234568e+08</td>\n",
       "      <td>263.680000</td>\n",
       "      <td>2.000000</td>\n",
       "      <td>NaN</td>\n",
       "    </tr>\n",
       "    <tr>\n",
       "      <th>50%</th>\n",
       "      <td>54.000000</td>\n",
       "      <td>9.876543e+08</td>\n",
       "      <td>519.250000</td>\n",
       "      <td>3.000000</td>\n",
       "      <td>NaN</td>\n",
       "    </tr>\n",
       "    <tr>\n",
       "      <th>75%</th>\n",
       "      <td>200.000000</td>\n",
       "      <td>9.876543e+08</td>\n",
       "      <td>762.910000</td>\n",
       "      <td>5.000000</td>\n",
       "      <td>NaN</td>\n",
       "    </tr>\n",
       "    <tr>\n",
       "      <th>max</th>\n",
       "      <td>200.000000</td>\n",
       "      <td>9.876543e+08</td>\n",
       "      <td>999.560000</td>\n",
       "      <td>10.000000</td>\n",
       "      <td>NaN</td>\n",
       "    </tr>\n",
       "  </tbody>\n",
       "</table>\n",
       "</div>"
      ],
      "text/plain": [
       "               Age         Phone  PurchaseAmount       Rating  Unnamed\n",
       "count  1630.000000  1.072000e+03     2049.000000  1821.000000      0.0\n",
       "mean     85.180982  5.668417e+08      509.418882     4.183416      NaN\n",
       "std      86.794111  4.321530e+08      288.257697     2.871300      NaN\n",
       "min      -1.000000  1.234568e+08        5.060000     1.000000      NaN\n",
       "25%      -1.000000  1.234568e+08      263.680000     2.000000      NaN\n",
       "50%      54.000000  9.876543e+08      519.250000     3.000000      NaN\n",
       "75%     200.000000  9.876543e+08      762.910000     5.000000      NaN\n",
       "max     200.000000  9.876543e+08      999.560000    10.000000      NaN"
      ]
     },
     "execution_count": 12,
     "metadata": {},
     "output_type": "execute_result"
    }
   ],
   "source": [
    "df.describe() "
   ]
  },
  {
   "cell_type": "markdown",
   "id": "491fb314-4d91-4253-8bcc-5e2527fbb8d4",
   "metadata": {},
   "source": [
    "# 2- Clean Data "
   ]
  },
  {
   "cell_type": "code",
   "execution_count": 13,
   "id": "59cae6b0-186c-4338-8e58-1fd9f49484e0",
   "metadata": {},
   "outputs": [],
   "source": [
    "df = df.drop(columns= ['Unnamed', 'Gender']) "
   ]
  },
  {
   "cell_type": "code",
   "execution_count": 14,
   "id": "ef93ec65-595c-47b3-86e6-d89eb982124d",
   "metadata": {},
   "outputs": [
    {
     "data": {
      "text/html": [
       "<div>\n",
       "<style scoped>\n",
       "    .dataframe tbody tr th:only-of-type {\n",
       "        vertical-align: middle;\n",
       "    }\n",
       "\n",
       "    .dataframe tbody tr th {\n",
       "        vertical-align: top;\n",
       "    }\n",
       "\n",
       "    .dataframe thead th {\n",
       "        text-align: right;\n",
       "    }\n",
       "</style>\n",
       "<table border=\"1\" class=\"dataframe\">\n",
       "  <thead>\n",
       "    <tr style=\"text-align: right;\">\n",
       "      <th></th>\n",
       "      <th>CustomerID</th>\n",
       "      <th>Name</th>\n",
       "      <th>Age</th>\n",
       "      <th>Gender</th>\n",
       "      <th>Email</th>\n",
       "      <th>Phone</th>\n",
       "      <th>PurchaseAmount</th>\n",
       "      <th>PurchaseDate</th>\n",
       "      <th>ProductCategory</th>\n",
       "      <th>Rating</th>\n",
       "    </tr>\n",
       "  </thead>\n",
       "  <tbody>\n",
       "    <tr>\n",
       "      <th>0</th>\n",
       "      <td>CUST1000</td>\n",
       "      <td>Ali Hassan</td>\n",
       "      <td>72.0</td>\n",
       "      <td>NaN</td>\n",
       "      <td>ali.hassan@gmail.com</td>\n",
       "      <td>123456789.0</td>\n",
       "      <td>837.31</td>\n",
       "      <td>2023-10-12</td>\n",
       "      <td>Books</td>\n",
       "      <td>3.0</td>\n",
       "    </tr>\n",
       "    <tr>\n",
       "      <th>1</th>\n",
       "      <td>CUST1001</td>\n",
       "      <td>Fatma Ali</td>\n",
       "      <td>NaN</td>\n",
       "      <td>Female</td>\n",
       "      <td>fatma.ali@hotmail.com</td>\n",
       "      <td>NaN</td>\n",
       "      <td>900.25</td>\n",
       "      <td>2023-02-23</td>\n",
       "      <td>NaN</td>\n",
       "      <td>3.0</td>\n",
       "    </tr>\n",
       "    <tr>\n",
       "      <th>2</th>\n",
       "      <td>CUST1002</td>\n",
       "      <td>Ahmed Mahmoud</td>\n",
       "      <td>-1.0</td>\n",
       "      <td>male</td>\n",
       "      <td>ahmed.mahmoud@hotmail.com</td>\n",
       "      <td>NaN</td>\n",
       "      <td>761.72</td>\n",
       "      <td>2023-07-07</td>\n",
       "      <td>Toys</td>\n",
       "      <td>2.0</td>\n",
       "    </tr>\n",
       "  </tbody>\n",
       "</table>\n",
       "</div>"
      ],
      "text/plain": [
       "  CustomerID           Name   Age  Gender                      Email  \\\n",
       "0   CUST1000     Ali Hassan  72.0     NaN       ali.hassan@gmail.com   \n",
       "1   CUST1001      Fatma Ali   NaN  Female      fatma.ali@hotmail.com   \n",
       "2   CUST1002  Ahmed Mahmoud  -1.0    male  ahmed.mahmoud@hotmail.com   \n",
       "\n",
       "         Phone  PurchaseAmount PurchaseDate ProductCategory  Rating  \n",
       "0  123456789.0          837.31   2023-10-12           Books     3.0  \n",
       "1          NaN          900.25   2023-02-23             NaN     3.0  \n",
       "2          NaN          761.72   2023-07-07            Toys     2.0  "
      ]
     },
     "execution_count": 14,
     "metadata": {},
     "output_type": "execute_result"
    }
   ],
   "source": [
    "df.head(3)"
   ]
  },
  {
   "cell_type": "code",
   "execution_count": 15,
   "id": "6532557e-f3c1-4b48-a604-5358fb83a42a",
   "metadata": {},
   "outputs": [],
   "source": [
    "df['Add'] = 1  "
   ]
  },
  {
   "cell_type": "code",
   "execution_count": 16,
   "id": "2095a024-081e-4c0b-aeb1-2f27b73553e5",
   "metadata": {
    "scrolled": true
   },
   "outputs": [
    {
     "data": {
      "text/html": [
       "<div>\n",
       "<style scoped>\n",
       "    .dataframe tbody tr th:only-of-type {\n",
       "        vertical-align: middle;\n",
       "    }\n",
       "\n",
       "    .dataframe tbody tr th {\n",
       "        vertical-align: top;\n",
       "    }\n",
       "\n",
       "    .dataframe thead th {\n",
       "        text-align: right;\n",
       "    }\n",
       "</style>\n",
       "<table border=\"1\" class=\"dataframe\">\n",
       "  <thead>\n",
       "    <tr style=\"text-align: right;\">\n",
       "      <th></th>\n",
       "      <th>CustomerID</th>\n",
       "      <th>Name</th>\n",
       "      <th>Age</th>\n",
       "      <th>Gender</th>\n",
       "      <th>Email</th>\n",
       "      <th>Phone</th>\n",
       "      <th>PurchaseAmount</th>\n",
       "      <th>PurchaseDate</th>\n",
       "      <th>ProductCategory</th>\n",
       "      <th>Rating</th>\n",
       "      <th>Add</th>\n",
       "    </tr>\n",
       "  </thead>\n",
       "  <tbody>\n",
       "    <tr>\n",
       "      <th>247</th>\n",
       "      <td>CUST1247</td>\n",
       "      <td>John Mahmoud</td>\n",
       "      <td>26.0</td>\n",
       "      <td>male</td>\n",
       "      <td>john.mahmoud@yahoo.com</td>\n",
       "      <td>NaN</td>\n",
       "      <td>NaN</td>\n",
       "      <td>2025-05-21</td>\n",
       "      <td>Toys</td>\n",
       "      <td>1.0</td>\n",
       "      <td>1</td>\n",
       "    </tr>\n",
       "    <tr>\n",
       "      <th>1729</th>\n",
       "      <td>CUST2729</td>\n",
       "      <td>Lina Hassan</td>\n",
       "      <td>NaN</td>\n",
       "      <td>NaN</td>\n",
       "      <td>lina.hassan@gmail.com</td>\n",
       "      <td>987654321.0</td>\n",
       "      <td>69.76</td>\n",
       "      <td>32/13/2020</td>\n",
       "      <td>Books</td>\n",
       "      <td>NaN</td>\n",
       "      <td>1</td>\n",
       "    </tr>\n",
       "    <tr>\n",
       "      <th>1733</th>\n",
       "      <td>CUST2733</td>\n",
       "      <td>Lina Hassan</td>\n",
       "      <td>NaN</td>\n",
       "      <td>NaN</td>\n",
       "      <td>lina.hassan@yahoo.com</td>\n",
       "      <td>123456789.0</td>\n",
       "      <td>596.96</td>\n",
       "      <td>2024-03-25</td>\n",
       "      <td>Home</td>\n",
       "      <td>2.0</td>\n",
       "      <td>1</td>\n",
       "    </tr>\n",
       "    <tr>\n",
       "      <th>1650</th>\n",
       "      <td>CUST2650</td>\n",
       "      <td>Lina Ali</td>\n",
       "      <td>46.0</td>\n",
       "      <td>male</td>\n",
       "      <td>lina.ali@hotmail.com</td>\n",
       "      <td>987654321.0</td>\n",
       "      <td>357.30</td>\n",
       "      <td>2023-06-01</td>\n",
       "      <td>Books</td>\n",
       "      <td>2.0</td>\n",
       "      <td>1</td>\n",
       "    </tr>\n",
       "  </tbody>\n",
       "</table>\n",
       "</div>"
      ],
      "text/plain": [
       "     CustomerID          Name   Age Gender                   Email  \\\n",
       "247    CUST1247  John Mahmoud  26.0   male  john.mahmoud@yahoo.com   \n",
       "1729   CUST2729   Lina Hassan   NaN    NaN   lina.hassan@gmail.com   \n",
       "1733   CUST2733   Lina Hassan   NaN    NaN   lina.hassan@yahoo.com   \n",
       "1650   CUST2650      Lina Ali  46.0   male    lina.ali@hotmail.com   \n",
       "\n",
       "            Phone  PurchaseAmount PurchaseDate ProductCategory  Rating  Add  \n",
       "247           NaN             NaN   2025-05-21            Toys     1.0    1  \n",
       "1729  987654321.0           69.76   32/13/2020           Books     NaN    1  \n",
       "1733  123456789.0          596.96   2024-03-25            Home     2.0    1  \n",
       "1650  987654321.0          357.30   2023-06-01           Books     2.0    1  "
      ]
     },
     "execution_count": 16,
     "metadata": {},
     "output_type": "execute_result"
    }
   ],
   "source": [
    "df.sample(4)"
   ]
  },
  {
   "cell_type": "code",
   "execution_count": 17,
   "id": "6da5e8f3-92a0-4066-a7da-82e96cb48a90",
   "metadata": {},
   "outputs": [],
   "source": [
    "df.drop_duplicates(inplace=True) "
   ]
  },
  {
   "cell_type": "code",
   "execution_count": 18,
   "id": "2e0eb419-cbbc-404d-bf3a-a2a59b5200b8",
   "metadata": {},
   "outputs": [
    {
     "data": {
      "text/plain": [
       "(2100, 11)"
      ]
     },
     "execution_count": 18,
     "metadata": {},
     "output_type": "execute_result"
    }
   ],
   "source": [
    "df.shape"
   ]
  },
  {
   "cell_type": "code",
   "execution_count": 19,
   "id": "91b757a4-8d11-4619-84f9-1bfbd026ddd9",
   "metadata": {},
   "outputs": [
    {
     "data": {
      "text/plain": [
       "array([nan, 'Female', 'male', 'F', 'M', 'female', 'Male'], dtype=object)"
      ]
     },
     "execution_count": 19,
     "metadata": {},
     "output_type": "execute_result"
    }
   ],
   "source": [
    "df['Gender'].unique()"
   ]
  },
  {
   "cell_type": "code",
   "execution_count": 20,
   "id": "0e8cf8be-2635-4682-94a6-acbcb4f2f19c",
   "metadata": {},
   "outputs": [],
   "source": [
    "df['Gender']=df['Gender'].str.lower() "
   ]
  },
  {
   "cell_type": "code",
   "execution_count": 21,
   "id": "e6bb63ae-afc6-41b0-8f90-6e23a03f51d5",
   "metadata": {},
   "outputs": [
    {
     "data": {
      "text/plain": [
       "array([nan, 'female', 'male', 'f', 'm'], dtype=object)"
      ]
     },
     "execution_count": 21,
     "metadata": {},
     "output_type": "execute_result"
    }
   ],
   "source": [
    "df['Gender'].unique()"
   ]
  },
  {
   "cell_type": "code",
   "execution_count": 22,
   "id": "29cb306f-fa11-4175-8de6-b2366d0565ee",
   "metadata": {},
   "outputs": [
    {
     "name": "stderr",
     "output_type": "stream",
     "text": [
      "/var/folders/63/flncqyd520177jnss7_rz6280000gn/T/ipykernel_1455/1157148229.py:1: FutureWarning: A value is trying to be set on a copy of a DataFrame or Series through chained assignment using an inplace method.\n",
      "The behavior will change in pandas 3.0. This inplace method will never work because the intermediate object on which we are setting values always behaves as a copy.\n",
      "\n",
      "For example, when doing 'df[col].method(value, inplace=True)', try using 'df.method({col: value}, inplace=True)' or df[col] = df[col].method(value) instead, to perform the operation inplace on the original object.\n",
      "\n",
      "\n",
      "  df['Gender'].replace({'m': 'male', 'f':'female'}, inplace = True) # ابدل القيم\n"
     ]
    }
   ],
   "source": [
    "df['Gender'].replace({'m': 'male', 'f':'female'}, inplace = True)  "
   ]
  },
  {
   "cell_type": "code",
   "execution_count": 23,
   "id": "845405be-07d6-4911-a865-bfed51e8ea29",
   "metadata": {},
   "outputs": [
    {
     "data": {
      "text/plain": [
       "array([nan, 'female', 'male'], dtype=object)"
      ]
     },
     "execution_count": 23,
     "metadata": {},
     "output_type": "execute_result"
    }
   ],
   "source": [
    "df['Gender'].unique()"
   ]
  },
  {
   "cell_type": "code",
   "execution_count": 24,
   "id": "57abd42b-6c69-444e-ba5a-6dc33348984b",
   "metadata": {},
   "outputs": [],
   "source": [
    "df['Gender'].fillna('male', inplace = True ) "
   ]
  },
  {
   "cell_type": "code",
   "execution_count": 25,
   "id": "474796af-d55d-4133-9bed-c426511a1921",
   "metadata": {},
   "outputs": [
    {
     "data": {
      "text/plain": [
       "array(['male', 'female'], dtype=object)"
      ]
     },
     "execution_count": 25,
     "metadata": {},
     "output_type": "execute_result"
    }
   ],
   "source": [
    "df['Gender'].unique()"
   ]
  },
  {
   "cell_type": "code",
   "execution_count": 26,
   "id": "b530d8b8-a681-4d50-93f4-30881004c205",
   "metadata": {},
   "outputs": [
    {
     "name": "stderr",
     "output_type": "stream",
     "text": [
      "/var/folders/63/flncqyd520177jnss7_rz6280000gn/T/ipykernel_1455/3855543326.py:1: FutureWarning: A value is trying to be set on a copy of a DataFrame or Series through chained assignment using an inplace method.\n",
      "The behavior will change in pandas 3.0. This inplace method will never work because the intermediate object on which we are setting values always behaves as a copy.\n",
      "\n",
      "For example, when doing 'df[col].method(value, inplace=True)', try using 'df.method({col: value}, inplace=True)' or df[col] = df[col].method(value) instead, to perform the operation inplace on the original object.\n",
      "\n",
      "\n",
      "  df['Age'].fillna( df['Age'].mean(), inplace = True ) ## استبدل القيم المفقودة بلمتوسط\n"
     ]
    }
   ],
   "source": [
    "df['Age'].fillna( df['Age'].mean(), inplace = True ) "
   ]
  },
  {
   "cell_type": "code",
   "execution_count": 27,
   "id": "ca16a27e-9eb7-4862-b122-0c1d59b23072",
   "metadata": {},
   "outputs": [],
   "source": [
    "df['Age']= df['Age'].apply(lambda x:df['Age'].mean() if x<0 else x) "
   ]
  },
  {
   "cell_type": "code",
   "execution_count": 28,
   "id": "a61af1ff-fa2f-4221-8b84-84d1d272039c",
   "metadata": {},
   "outputs": [
    {
     "name": "stderr",
     "output_type": "stream",
     "text": [
      "/var/folders/63/flncqyd520177jnss7_rz6280000gn/T/ipykernel_1455/2314548606.py:1: FutureWarning: A value is trying to be set on a copy of a DataFrame or Series through chained assignment using an inplace method.\n",
      "The behavior will change in pandas 3.0. This inplace method will never work because the intermediate object on which we are setting values always behaves as a copy.\n",
      "\n",
      "For example, when doing 'df[col].method(value, inplace=True)', try using 'df.method({col: value}, inplace=True)' or df[col] = df[col].method(value) instead, to perform the operation inplace on the original object.\n",
      "\n",
      "\n",
      "  df['ProductCategory'].fillna( 'UnKnown', inplace = True )\n"
     ]
    }
   ],
   "source": [
    "df['ProductCategory'].fillna( 'UnKnown', inplace = True )"
   ]
  },
  {
   "cell_type": "code",
   "execution_count": 29,
   "id": "edbce2dc-b8d1-4464-b6f8-1e68ca989ef4",
   "metadata": {},
   "outputs": [
    {
     "data": {
      "text/plain": [
       "CustomerID            0\n",
       "Name                  0\n",
       "Age                   0\n",
       "Gender                0\n",
       "Email                 0\n",
       "Phone              1057\n",
       "PurchaseAmount       97\n",
       "PurchaseDate          0\n",
       "ProductCategory       0\n",
       "Rating              322\n",
       "Add                   0\n",
       "dtype: int64"
      ]
     },
     "execution_count": 29,
     "metadata": {},
     "output_type": "execute_result"
    }
   ],
   "source": [
    "df.isnull().sum()"
   ]
  },
  {
   "cell_type": "code",
   "execution_count": 30,
   "id": "f09f6e80-5c01-4f59-a6bb-8668ed57cb5b",
   "metadata": {},
   "outputs": [],
   "source": [
    "df['PurchaseDate'] = pd.to_datetime(df['PurchaseDate'] , errors = 'coerce')"
   ]
  },
  {
   "cell_type": "markdown",
   "id": "78f3f411-3bf5-43ac-881f-06d7e52cecc9",
   "metadata": {},
   "source": [
    "# 3- Data Analysis "
   ]
  },
  {
   "cell_type": "code",
   "execution_count": 31,
   "id": "a2fdcd04-17ca-451f-a680-5b8ecbbbcc69",
   "metadata": {},
   "outputs": [
    {
     "data": {
      "text/html": [
       "<div>\n",
       "<style scoped>\n",
       "    .dataframe tbody tr th:only-of-type {\n",
       "        vertical-align: middle;\n",
       "    }\n",
       "\n",
       "    .dataframe tbody tr th {\n",
       "        vertical-align: top;\n",
       "    }\n",
       "\n",
       "    .dataframe thead th {\n",
       "        text-align: right;\n",
       "    }\n",
       "</style>\n",
       "<table border=\"1\" class=\"dataframe\">\n",
       "  <thead>\n",
       "    <tr style=\"text-align: right;\">\n",
       "      <th></th>\n",
       "      <th>CustomerID</th>\n",
       "      <th>Name</th>\n",
       "      <th>Age</th>\n",
       "      <th>Gender</th>\n",
       "      <th>Email</th>\n",
       "      <th>Phone</th>\n",
       "      <th>PurchaseAmount</th>\n",
       "      <th>PurchaseDate</th>\n",
       "      <th>ProductCategory</th>\n",
       "      <th>Rating</th>\n",
       "      <th>Add</th>\n",
       "    </tr>\n",
       "  </thead>\n",
       "  <tbody>\n",
       "    <tr>\n",
       "      <th>687</th>\n",
       "      <td>CUST1687</td>\n",
       "      <td>Alaa Ibrahim</td>\n",
       "      <td>200.000000</td>\n",
       "      <td>female</td>\n",
       "      <td>alaa.ibrahim@yahoo.com</td>\n",
       "      <td>123456789.0</td>\n",
       "      <td>999.56</td>\n",
       "      <td>2025-05-16</td>\n",
       "      <td>Electronics</td>\n",
       "      <td>1.0</td>\n",
       "      <td>1</td>\n",
       "    </tr>\n",
       "    <tr>\n",
       "      <th>1949</th>\n",
       "      <td>CUST2949</td>\n",
       "      <td>Fatma Mahmoud</td>\n",
       "      <td>63.000000</td>\n",
       "      <td>female</td>\n",
       "      <td>fatma.mahmoud@yahoo.com</td>\n",
       "      <td>NaN</td>\n",
       "      <td>999.30</td>\n",
       "      <td>2024-04-10</td>\n",
       "      <td>Clothing</td>\n",
       "      <td>3.0</td>\n",
       "      <td>1</td>\n",
       "    </tr>\n",
       "    <tr>\n",
       "      <th>424</th>\n",
       "      <td>CUST1424</td>\n",
       "      <td>John Ali</td>\n",
       "      <td>80.000000</td>\n",
       "      <td>male</td>\n",
       "      <td>john.ali@gmail.com</td>\n",
       "      <td>987654321.0</td>\n",
       "      <td>999.23</td>\n",
       "      <td>2024-06-30</td>\n",
       "      <td>Toys</td>\n",
       "      <td>5.0</td>\n",
       "      <td>1</td>\n",
       "    </tr>\n",
       "    <tr>\n",
       "      <th>1832</th>\n",
       "      <td>CUST2832</td>\n",
       "      <td>John Ali</td>\n",
       "      <td>49.000000</td>\n",
       "      <td>male</td>\n",
       "      <td>john.ali@yahoo.com</td>\n",
       "      <td>NaN</td>\n",
       "      <td>999.00</td>\n",
       "      <td>2024-10-10</td>\n",
       "      <td>Toys</td>\n",
       "      <td>1.0</td>\n",
       "      <td>1</td>\n",
       "    </tr>\n",
       "    <tr>\n",
       "      <th>1961</th>\n",
       "      <td>CUST2961</td>\n",
       "      <td>Mark Mahmoud</td>\n",
       "      <td>85.044542</td>\n",
       "      <td>male</td>\n",
       "      <td>mark.mahmoud@yahoo.com</td>\n",
       "      <td>NaN</td>\n",
       "      <td>998.59</td>\n",
       "      <td>2025-04-25</td>\n",
       "      <td>Electronics</td>\n",
       "      <td>2.0</td>\n",
       "      <td>1</td>\n",
       "    </tr>\n",
       "    <tr>\n",
       "      <th>631</th>\n",
       "      <td>CUST1631</td>\n",
       "      <td>Lina Mahmoud</td>\n",
       "      <td>18.000000</td>\n",
       "      <td>female</td>\n",
       "      <td>lina.mahmoud@gmail.com</td>\n",
       "      <td>NaN</td>\n",
       "      <td>998.16</td>\n",
       "      <td>2023-10-09</td>\n",
       "      <td>Books</td>\n",
       "      <td>5.0</td>\n",
       "      <td>1</td>\n",
       "    </tr>\n",
       "    <tr>\n",
       "      <th>386</th>\n",
       "      <td>CUST1386</td>\n",
       "      <td>Fatma Ali</td>\n",
       "      <td>200.000000</td>\n",
       "      <td>female</td>\n",
       "      <td>fatma.ali@hotmail.com</td>\n",
       "      <td>123456789.0</td>\n",
       "      <td>995.55</td>\n",
       "      <td>2022-11-12</td>\n",
       "      <td>Clothing</td>\n",
       "      <td>4.0</td>\n",
       "      <td>1</td>\n",
       "    </tr>\n",
       "    <tr>\n",
       "      <th>335</th>\n",
       "      <td>CUST1335</td>\n",
       "      <td>Alaa Mahmoud</td>\n",
       "      <td>85.044542</td>\n",
       "      <td>female</td>\n",
       "      <td>alaa.mahmoud@yahoo.com</td>\n",
       "      <td>123456789.0</td>\n",
       "      <td>995.41</td>\n",
       "      <td>2024-02-11</td>\n",
       "      <td>Toys</td>\n",
       "      <td>3.0</td>\n",
       "      <td>1</td>\n",
       "    </tr>\n",
       "    <tr>\n",
       "      <th>908</th>\n",
       "      <td>CUST1908</td>\n",
       "      <td>Sara Ali</td>\n",
       "      <td>85.044542</td>\n",
       "      <td>female</td>\n",
       "      <td>sara.ali@yahoo.com</td>\n",
       "      <td>NaN</td>\n",
       "      <td>995.32</td>\n",
       "      <td>2023-09-04</td>\n",
       "      <td>Clothing</td>\n",
       "      <td>1.0</td>\n",
       "      <td>1</td>\n",
       "    </tr>\n",
       "    <tr>\n",
       "      <th>1708</th>\n",
       "      <td>CUST2708</td>\n",
       "      <td>Sara Hassan</td>\n",
       "      <td>85.044542</td>\n",
       "      <td>female</td>\n",
       "      <td>sara.hassan@yahoo.com</td>\n",
       "      <td>NaN</td>\n",
       "      <td>995.25</td>\n",
       "      <td>2023-05-17</td>\n",
       "      <td>Electronics</td>\n",
       "      <td>NaN</td>\n",
       "      <td>1</td>\n",
       "    </tr>\n",
       "  </tbody>\n",
       "</table>\n",
       "</div>"
      ],
      "text/plain": [
       "     CustomerID           Name         Age  Gender                    Email  \\\n",
       "687    CUST1687   Alaa Ibrahim  200.000000  female   alaa.ibrahim@yahoo.com   \n",
       "1949   CUST2949  Fatma Mahmoud   63.000000  female  fatma.mahmoud@yahoo.com   \n",
       "424    CUST1424       John Ali   80.000000    male       john.ali@gmail.com   \n",
       "1832   CUST2832       John Ali   49.000000    male       john.ali@yahoo.com   \n",
       "1961   CUST2961   Mark Mahmoud   85.044542    male   mark.mahmoud@yahoo.com   \n",
       "631    CUST1631   Lina Mahmoud   18.000000  female   lina.mahmoud@gmail.com   \n",
       "386    CUST1386      Fatma Ali  200.000000  female    fatma.ali@hotmail.com   \n",
       "335    CUST1335   Alaa Mahmoud   85.044542  female   alaa.mahmoud@yahoo.com   \n",
       "908    CUST1908       Sara Ali   85.044542  female       sara.ali@yahoo.com   \n",
       "1708   CUST2708    Sara Hassan   85.044542  female    sara.hassan@yahoo.com   \n",
       "\n",
       "            Phone  PurchaseAmount PurchaseDate ProductCategory  Rating  Add  \n",
       "687   123456789.0          999.56   2025-05-16     Electronics     1.0    1  \n",
       "1949          NaN          999.30   2024-04-10        Clothing     3.0    1  \n",
       "424   987654321.0          999.23   2024-06-30            Toys     5.0    1  \n",
       "1832          NaN          999.00   2024-10-10            Toys     1.0    1  \n",
       "1961          NaN          998.59   2025-04-25     Electronics     2.0    1  \n",
       "631           NaN          998.16   2023-10-09           Books     5.0    1  \n",
       "386   123456789.0          995.55   2022-11-12        Clothing     4.0    1  \n",
       "335   123456789.0          995.41   2024-02-11            Toys     3.0    1  \n",
       "908           NaN          995.32   2023-09-04        Clothing     1.0    1  \n",
       "1708          NaN          995.25   2023-05-17     Electronics     NaN    1  "
      ]
     },
     "execution_count": 31,
     "metadata": {},
     "output_type": "execute_result"
    }
   ],
   "source": [
    "df.sort_values(by=['PurchaseAmount'],ascending= False).head(10)  "
   ]
  },
  {
   "cell_type": "code",
   "execution_count": 32,
   "id": "6a0da6fb-df1a-4f1b-9950-3fddf7ec76b8",
   "metadata": {},
   "outputs": [
    {
     "data": {
      "text/plain": [
       "ProductCategory\n",
       "UnKnown        565\n",
       "Clothing       323\n",
       "Electronics    323\n",
       "Books          305\n",
       "Home           296\n",
       "Toys           288\n",
       "Name: count, dtype: int64"
      ]
     },
     "execution_count": 32,
     "metadata": {},
     "output_type": "execute_result"
    },
    {
     "name": "stdout",
     "output_type": "stream",
     "text": [
      "ERROR! Session/line number was not unique in database. History logging moved to new session 3\n"
     ]
    }
   ],
   "source": [
    "df['ProductCategory'].value_counts() "
   ]
  },
  {
   "cell_type": "code",
   "execution_count": 33,
   "id": "37377f34-0eeb-4eb9-a71e-9b23dd607c17",
   "metadata": {},
   "outputs": [
    {
     "data": {
      "text/plain": [
       "Rating\n",
       "1.0     266\n",
       "2.0     310\n",
       "3.0     326\n",
       "4.0     278\n",
       "5.0     307\n",
       "10.0    291\n",
       "Name: count, dtype: int64"
      ]
     },
     "execution_count": 33,
     "metadata": {},
     "output_type": "execute_result"
    }
   ],
   "source": [
    "df['Rating'].value_counts().sort_index() "
   ]
  },
  {
   "cell_type": "code",
   "execution_count": 34,
   "id": "56e25c2f-6a2d-4054-99b5-997aed925d58",
   "metadata": {},
   "outputs": [
    {
     "data": {
      "text/plain": [
       "Gender\n",
       "male      1209\n",
       "female     891\n",
       "Name: count, dtype: int64"
      ]
     },
     "execution_count": 34,
     "metadata": {},
     "output_type": "execute_result"
    }
   ],
   "source": [
    "gender_counts= df['Gender'].value_counts()"
   ]
  },
  {
   "cell_type": "code",
   "execution_count": 41,
   "id": "020b3294-699c-4f24-b666-19cf7abc1080",
   "metadata": {},
   "outputs": [
    {
     "data": {
      "image/png": "[encoded data removed]",
      "text/plain": [
       "<Figure size 300x300 with 1 Axes>"
      ]
     },
     "metadata": {},
     "output_type": "display_data"
    }
   ],
   "source": [
    "plt.figure(figsize=(3,3))\n",
    "plt.pie(gender_counts,labels=gender_counts.index , autopct='%1.1f%%', startangle =120)\n",
    "plt.title('Distribution By Gender')\n",
    "plt.show()"
   ]
  },
  {
   "cell_type": "code",
   "execution_count": 46,
   "id": "0f80e2d8-d550-4b2d-83cc-c17ff83986d9",
   "metadata": {},
   "outputs": [
    {
     "data": {
      "image/png": "[encoded data removed]",
      "text/plain": [
       "<Figure size 640x480 with 1 Axes>"
      ]
     },
     "metadata": {},
     "output_type": "display_data"
    }
   ],
   "source": [
    "sns.histplot(df['Age'], bins=10, kde=True )\n",
    "plt.title('Distribution By Age')\n",
    "plt.show()"
   ]
  },
  {
   "cell_type": "code",
   "execution_count": 49,
   "id": "0f8c85be-225f-4c4d-99e9-89d3e0786fbb",
   "metadata": {},
   "outputs": [
    {
     "data": {
      "image/png": "[encoded data removed]",
      "text/plain": [
       "<Figure size 640x480 with 1 Axes>"
      ]
     },
     "metadata": {},
     "output_type": "display_data"
    }
   ],
   "source": [
    "sns.boxplot(data=df, x= 'Age', y='Gender')\n",
    "plt.title(' Gender By Age')\n",
    "plt.show()\n"
   ]
  },
  {
   "cell_type": "code",
   "execution_count": 52,
   "id": "4323d37c-6140-4ef4-8a7a-5f8edfdf1964",
   "metadata": {},
   "outputs": [
    {
     "data": {
      "image/png": "[encoded data removed]",
      "text/plain": [
       "<Figure size 640x480 with 1 Axes>"
      ]
     },
     "metadata": {},
     "output_type": "display_data"
    }
   ],
   "source": [
    "\n",
    "sns.boxplot(data=df, x= 'Gender', y='PurchaseAmount')\n",
    "plt.title('PurchaseAmount By Gender ')\n",
    "plt.show()\n"
   ]
  },
  {
   "cell_type": "code",
   "execution_count": 56,
   "id": "fc0d99de-7a5d-4b83-bf8f-dcda0409515d",
   "metadata": {},
   "outputs": [],
   "source": [
    "corr=df[['Age','Rating','PurchaseAmount']].corr() \n"
   ]
  },
  {
   "cell_type": "code",
   "execution_count": 59,
   "id": "e4a7ec1e-3a92-4f82-9943-fc6920a2f78a",
   "metadata": {},
   "outputs": [
    {
     "data": {
      "image/png": "[encoded data removed]",
      "text/plain": [
       "<Figure size 640x480 with 2 Axes>"
      ]
     },
     "metadata": {},
     "output_type": "display_data"
    }
   ],
   "source": [
    "sns.heatmap(corr,annot=True , linewidths = 5 , cmap='coolwarm' )\n",
    "\n",
    "plt.title('Correlation Matrix')\n",
    "plt.show()"
   ]
  },
  {
   "cell_type": "code",
   "execution_count": 60,
   "id": "c3777f71-dbb9-4e12-a3ee-5e160a9c1201",
   "metadata": {},
   "outputs": [
    {
     "data": {
      "image/png": "[encoded data removed]",
      "text/plain": [
       "<Figure size 640x480 with 1 Axes>"
      ]
     },
     "metadata": {},
     "output_type": "display_data"
    }
   ],
   "source": [
    "sns.barplot(data=df, x= 'Gender', y='PurchaseAmount', estimator= 'mean')\n",
    "plt.title('Purchase Amount By Gender ')\n",
    "plt.show()\n",
    "##هنا متوسط \n"
   ]
  },
  {
   "cell_type": "code",
   "execution_count": 63,
   "id": "d6b4a75f-ff40-4e92-a21b-8e0c351890dd",
   "metadata": {},
   "outputs": [
    {
     "data": {
      "image/png": "[encoded data removed]",
      "text/plain": [
       "<Figure size 640x480 with 1 Axes>"
      ]
     },
     "metadata": {},
     "output_type": "display_data"
    }
   ],
   "source": [
    "sns.scatterplot(data=df, x= 'Age', y='PurchaseAmount', hue= 'Gender')\n",
    "plt.title('Purchase Amount By Age ')\n",
    "plt.show()"
   ]
  },
  {
   "cell_type": "code",
   "execution_count": 67,
   "id": "b4ed5cdc-39b6-4905-a5dd-90f4a961f61d",
   "metadata": {},
   "outputs": [],
   "source": [
    "df['PurchaseDate']= pd.to_datetime(df['PurchaseDate'])"
   ]
  },
  {
   "cell_type": "code",
   "execution_count": 72,
   "id": "66d7fe9d-07d1-4334-88f4-839dd27b26d5",
   "metadata": {},
   "outputs": [],
   "source": [
    "df['Month']=df['PurchaseDate'].dt.month\n"
   ]
  },
  {
   "cell_type": "code",
   "execution_count": 73,
   "id": "c7589190-cdc3-4128-8bc9-a6d81e4b4931",
   "metadata": {},
   "outputs": [
    {
     "data": {
      "text/html": [
       "<div>\n",
       "<style scoped>\n",
       "    .dataframe tbody tr th:only-of-type {\n",
       "        vertical-align: middle;\n",
       "    }\n",
       "\n",
       "    .dataframe tbody tr th {\n",
       "        vertical-align: top;\n",
       "    }\n",
       "\n",
       "    .dataframe thead th {\n",
       "        text-align: right;\n",
       "    }\n",
       "</style>\n",
       "<table border=\"1\" class=\"dataframe\">\n",
       "  <thead>\n",
       "    <tr style=\"text-align: right;\">\n",
       "      <th></th>\n",
       "      <th>CustomerID</th>\n",
       "      <th>Name</th>\n",
       "      <th>Age</th>\n",
       "      <th>Gender</th>\n",
       "      <th>Email</th>\n",
       "      <th>Phone</th>\n",
       "      <th>PurchaseAmount</th>\n",
       "      <th>PurchaseDate</th>\n",
       "      <th>ProductCategory</th>\n",
       "      <th>Rating</th>\n",
       "      <th>Add</th>\n",
       "      <th>Month</th>\n",
       "    </tr>\n",
       "  </thead>\n",
       "  <tbody>\n",
       "    <tr>\n",
       "      <th>0</th>\n",
       "      <td>CUST1000</td>\n",
       "      <td>Ali Hassan</td>\n",
       "      <td>72.000000</td>\n",
       "      <td>male</td>\n",
       "      <td>ali.hassan@gmail.com</td>\n",
       "      <td>123456789.0</td>\n",
       "      <td>837.31</td>\n",
       "      <td>2023-10-12</td>\n",
       "      <td>Books</td>\n",
       "      <td>3.0</td>\n",
       "      <td>1</td>\n",
       "      <td>10.0</td>\n",
       "    </tr>\n",
       "    <tr>\n",
       "      <th>1</th>\n",
       "      <td>CUST1001</td>\n",
       "      <td>Fatma Ali</td>\n",
       "      <td>85.044542</td>\n",
       "      <td>female</td>\n",
       "      <td>fatma.ali@hotmail.com</td>\n",
       "      <td>NaN</td>\n",
       "      <td>900.25</td>\n",
       "      <td>2023-02-23</td>\n",
       "      <td>UnKnown</td>\n",
       "      <td>3.0</td>\n",
       "      <td>1</td>\n",
       "      <td>2.0</td>\n",
       "    </tr>\n",
       "    <tr>\n",
       "      <th>2</th>\n",
       "      <td>CUST1002</td>\n",
       "      <td>Ahmed Mahmoud</td>\n",
       "      <td>85.044542</td>\n",
       "      <td>male</td>\n",
       "      <td>ahmed.mahmoud@hotmail.com</td>\n",
       "      <td>NaN</td>\n",
       "      <td>761.72</td>\n",
       "      <td>2023-07-07</td>\n",
       "      <td>Toys</td>\n",
       "      <td>2.0</td>\n",
       "      <td>1</td>\n",
       "      <td>7.0</td>\n",
       "    </tr>\n",
       "    <tr>\n",
       "      <th>3</th>\n",
       "      <td>CUST1003</td>\n",
       "      <td>Ahmed Gaber</td>\n",
       "      <td>85.044542</td>\n",
       "      <td>female</td>\n",
       "      <td>ahmed.gaber@gmail.com</td>\n",
       "      <td>NaN</td>\n",
       "      <td>303.72</td>\n",
       "      <td>2023-12-30</td>\n",
       "      <td>UnKnown</td>\n",
       "      <td>2.0</td>\n",
       "      <td>1</td>\n",
       "      <td>12.0</td>\n",
       "    </tr>\n",
       "    <tr>\n",
       "      <th>4</th>\n",
       "      <td>CUST1004</td>\n",
       "      <td>Ali Ibrahim</td>\n",
       "      <td>73.000000</td>\n",
       "      <td>male</td>\n",
       "      <td>ali.ibrahim@yahoo.com</td>\n",
       "      <td>987654321.0</td>\n",
       "      <td>635.81</td>\n",
       "      <td>2023-12-07</td>\n",
       "      <td>Clothing</td>\n",
       "      <td>2.0</td>\n",
       "      <td>1</td>\n",
       "      <td>12.0</td>\n",
       "    </tr>\n",
       "  </tbody>\n",
       "</table>\n",
       "</div>"
      ],
      "text/plain": [
       "  CustomerID           Name        Age  Gender                      Email  \\\n",
       "0   CUST1000     Ali Hassan  72.000000    male       ali.hassan@gmail.com   \n",
       "1   CUST1001      Fatma Ali  85.044542  female      fatma.ali@hotmail.com   \n",
       "2   CUST1002  Ahmed Mahmoud  85.044542    male  ahmed.mahmoud@hotmail.com   \n",
       "3   CUST1003    Ahmed Gaber  85.044542  female      ahmed.gaber@gmail.com   \n",
       "4   CUST1004    Ali Ibrahim  73.000000    male      ali.ibrahim@yahoo.com   \n",
       "\n",
       "         Phone  PurchaseAmount PurchaseDate ProductCategory  Rating  Add  \\\n",
       "0  123456789.0          837.31   2023-10-12           Books     3.0    1   \n",
       "1          NaN          900.25   2023-02-23         UnKnown     3.0    1   \n",
       "2          NaN          761.72   2023-07-07            Toys     2.0    1   \n",
       "3          NaN          303.72   2023-12-30         UnKnown     2.0    1   \n",
       "4  987654321.0          635.81   2023-12-07        Clothing     2.0    1   \n",
       "\n",
       "   Month  \n",
       "0   10.0  \n",
       "1    2.0  \n",
       "2    7.0  \n",
       "3   12.0  \n",
       "4   12.0  "
      ]
     },
     "execution_count": 73,
     "metadata": {},
     "output_type": "execute_result"
    }
   ],
   "source": [
    "df.head()"
   ]
  },
  {
   "cell_type": "code",
   "execution_count": 76,
   "id": "f951b989-d985-4bf7-be03-489ed80360a6",
   "metadata": {},
   "outputs": [],
   "source": [
    "monthly_sales=df.groupby('Month')['PurchaseAmount'].sum() "
   ]
  },
  {
   "cell_type": "code",
   "execution_count": 81,
   "id": "adbb73e5-8058-40a2-b2b6-4f9e35038888",
   "metadata": {},
   "outputs": [
    {
     "data": {
      "image/png": "[encoded data removed]",
      "text/plain": [
       "<Figure size 1000x300 with 1 Axes>"
      ]
     },
     "metadata": {},
     "output_type": "display_data"
    }
   ],
   "source": [
    "monthly_sales.plot(figsize=(10,3), kind='line', marker='o')\n",
    "plt.title('Monthly Sales')\n",
    "plt.xlabel('Month')\n",
    "plt.ylabel('Total Sales')\n",
    "plt.show()"
   ]
  },
  {
   "cell_type": "code",
   "execution_count": 83,
   "id": "ceeb258a-e720-46e0-a8d3-738342ffe8b6",
   "metadata": {},
   "outputs": [],
   "source": [
    "df.to_csv('Clean_Data_2025', index=False) "
   ]
  }
 ],
 "metadata": {
  "kernelspec": {
   "display_name": "Python [conda env:base] *",
   "language": "python",
   "name": "conda-base-py"
  },
  "language_info": {
   "codemirror_mode": {
    "name": "ipython",
    "version": 3
   },
   "file_extension": ".py",
   "mimetype": "text/x-python",
   "name": "python",
   "nbconvert_exporter": "python",
   "pygments_lexer": "ipython3",
   "version": "3.13.5"
  }
 },
 "nbformat": 4,
 "nbformat_minor": 5
}
